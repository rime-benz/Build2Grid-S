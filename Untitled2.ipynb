{
  "nbformat": 4,
  "nbformat_minor": 0,
  "metadata": {
    "colab": {
      "provenance": []
    },
    "kernelspec": {
      "name": "python3",
      "display_name": "Python 3"
    },
    "language_info": {
      "name": "python"
    }
  },
  "cells": [
    {
      "cell_type": "code",
      "execution_count": 1,
      "metadata": {
        "colab": {
          "base_uri": "https://localhost:8080/",
          "height": 384
        },
        "id": "H4u65bmN6CQI",
        "outputId": "40b2c2a6-080f-4b08-ad33-7bf94599aedf"
      },
      "outputs": [
        {
          "output_type": "error",
          "ename": "FileNotFoundError",
          "evalue": "[Errno 2] No such file or directory: '/mnt/data/cas pratique _ planification de raccordement-20251030T181842Z-1-001.zip'",
          "traceback": [
            "\u001b[0;31m---------------------------------------------------------------------------\u001b[0m",
            "\u001b[0;31mFileNotFoundError\u001b[0m                         Traceback (most recent call last)",
            "\u001b[0;32m/tmp/ipython-input-936611689.py\u001b[0m in \u001b[0;36m<cell line: 0>\u001b[0;34m()\u001b[0m\n\u001b[1;32m      2\u001b[0m \u001b[0;34m\u001b[0m\u001b[0m\n\u001b[1;32m      3\u001b[0m \u001b[0mzip_path\u001b[0m \u001b[0;34m=\u001b[0m \u001b[0;34m\"/mnt/data/cas pratique _ planification de raccordement-20251030T181842Z-1-001.zip\"\u001b[0m\u001b[0;34m\u001b[0m\u001b[0;34m\u001b[0m\u001b[0m\n\u001b[0;32m----> 4\u001b[0;31m \u001b[0;32mwith\u001b[0m \u001b[0mzipfile\u001b[0m\u001b[0;34m.\u001b[0m\u001b[0mZipFile\u001b[0m\u001b[0;34m(\u001b[0m\u001b[0mzip_path\u001b[0m\u001b[0;34m)\u001b[0m \u001b[0;32mas\u001b[0m \u001b[0mz\u001b[0m\u001b[0;34m:\u001b[0m\u001b[0;34m\u001b[0m\u001b[0;34m\u001b[0m\u001b[0m\n\u001b[0m\u001b[1;32m      5\u001b[0m     \u001b[0mbat\u001b[0m \u001b[0;34m=\u001b[0m \u001b[0mpd\u001b[0m\u001b[0;34m.\u001b[0m\u001b[0mread_csv\u001b[0m\u001b[0;34m(\u001b[0m\u001b[0mz\u001b[0m\u001b[0;34m.\u001b[0m\u001b[0mopen\u001b[0m\u001b[0;34m(\u001b[0m\u001b[0;34m'cas pratique _ planification de raccordement/new_data/batiments.csv'\u001b[0m\u001b[0;34m)\u001b[0m\u001b[0;34m)\u001b[0m\u001b[0;34m\u001b[0m\u001b[0;34m\u001b[0m\u001b[0m\n\u001b[1;32m      6\u001b[0m \u001b[0;34m\u001b[0m\u001b[0m\n",
            "\u001b[0;32m/usr/lib/python3.12/zipfile/__init__.py\u001b[0m in \u001b[0;36m__init__\u001b[0;34m(self, file, mode, compression, allowZip64, compresslevel, strict_timestamps, metadata_encoding)\u001b[0m\n\u001b[1;32m   1350\u001b[0m             \u001b[0;32mwhile\u001b[0m \u001b[0;32mTrue\u001b[0m\u001b[0;34m:\u001b[0m\u001b[0;34m\u001b[0m\u001b[0;34m\u001b[0m\u001b[0m\n\u001b[1;32m   1351\u001b[0m                 \u001b[0;32mtry\u001b[0m\u001b[0;34m:\u001b[0m\u001b[0;34m\u001b[0m\u001b[0;34m\u001b[0m\u001b[0m\n\u001b[0;32m-> 1352\u001b[0;31m                     \u001b[0mself\u001b[0m\u001b[0;34m.\u001b[0m\u001b[0mfp\u001b[0m \u001b[0;34m=\u001b[0m \u001b[0mio\u001b[0m\u001b[0;34m.\u001b[0m\u001b[0mopen\u001b[0m\u001b[0;34m(\u001b[0m\u001b[0mfile\u001b[0m\u001b[0;34m,\u001b[0m \u001b[0mfilemode\u001b[0m\u001b[0;34m)\u001b[0m\u001b[0;34m\u001b[0m\u001b[0;34m\u001b[0m\u001b[0m\n\u001b[0m\u001b[1;32m   1353\u001b[0m                 \u001b[0;32mexcept\u001b[0m \u001b[0mOSError\u001b[0m\u001b[0;34m:\u001b[0m\u001b[0;34m\u001b[0m\u001b[0;34m\u001b[0m\u001b[0m\n\u001b[1;32m   1354\u001b[0m                     \u001b[0;32mif\u001b[0m \u001b[0mfilemode\u001b[0m \u001b[0;32min\u001b[0m \u001b[0mmodeDict\u001b[0m\u001b[0;34m:\u001b[0m\u001b[0;34m\u001b[0m\u001b[0;34m\u001b[0m\u001b[0m\n",
            "\u001b[0;31mFileNotFoundError\u001b[0m: [Errno 2] No such file or directory: '/mnt/data/cas pratique _ planification de raccordement-20251030T181842Z-1-001.zip'"
          ]
        }
      ],
      "source": [
        "import pandas as pd, zipfile\n",
        "\n",
        "zip_path = \"/mnt/data/cas pratique _ planification de raccordement-20251030T181842Z-1-001.zip\"\n",
        "with zipfile.ZipFile(zip_path) as z:\n",
        "    bat = pd.read_csv(z.open('cas pratique _ planification de raccordement/new_data/batiments.csv'))\n",
        "\n",
        "# sort by nb_maisons descending\n",
        "bat_sorted = bat.sort_values('nb_maisons', ascending=False).reset_index(drop=True)\n",
        "bat_sorted"
      ]
    },
    {
      "cell_type": "code",
      "source": [
        "zip_path = \"/mnt/data/cas pratique _ planification de raccordement-20251030T181842Z-1-001.zip\"\n",
        "with zipfile.ZipFile(zip_path) as z:\n",
        "    bat = pd.read_csv(z.open('cas pratique _ planification de raccordement/new_data/batiments.csv'))\n",
        "\n",
        "bat_sorted = bat.sort_values('nb_maisons', ascending=False).reset_index(drop=True)\n",
        "bat_sorted.head()"
      ],
      "metadata": {
        "id": "bKMo3uzI6Qbh"
      },
      "execution_count": null,
      "outputs": []
    },
    {
      "cell_type": "code",
      "source": [
        "n=len(bat_sorted)\n",
        "ph1=int(n*0.4); ph2=int(n*0.2); ph3=ph2; ph4=n-ph1-ph2-ph3\n",
        "phase_assign=['phase1']*ph1 + ['phase2']*ph2 + ['phase3']*ph3 + ['phase4']*ph4\n",
        "bat_sorted['phase']=phase_assign\n",
        "bat_sorted.groupby('phase')['nb_maisons'].sum()"
      ],
      "metadata": {
        "id": "J6hiHKC46QIG"
      },
      "execution_count": null,
      "outputs": []
    },
    {
      "cell_type": "code",
      "source": [
        "import matplotlib.pyplot as plt\n",
        "\n",
        "phase_counts = bat_sorted.groupby('phase')['nb_maisons'].sum()\n",
        "plt.figure()\n",
        "phase_counts.plot(kind='bar')\n",
        "plt.title(\"Nombre total de maisons raccordées par phase (simulation)\")\n",
        "plt.ylabel(\"Nb maisons\")\n",
        "plt.xlabel(\"Phase\")"
      ],
      "metadata": {
        "id": "uYuzRcrE6Z87"
      },
      "execution_count": null,
      "outputs": []
    }
  ]
}