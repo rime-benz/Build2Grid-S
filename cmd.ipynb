import pandas as pd, zipfile, matplotlib.pyplot as plt

# Load data
zip_path = "/mnt/data/cas pratique _ planification de raccordement-20251030T181842Z-1-001.zip"
with zipfile.ZipFile(zip_path) as z:
    bat = pd.read_csv(z.open('cas pratique _ planification de raccordement/new_data/batiments.csv'))

# Sort buildings by nb_maisons (descending) to mimic priority
bat_sorted = bat.sort_values('nb_maisons', ascending=False).reset_index(drop=True)

# Assign phases by proportion: 40%, 20%, 20%, 20%
n = len(bat_sorted)
ph1 = int(n * 0.4); ph2 = int(n * 0.2); ph3 = int(n * 0.2); ph4 = n - ph1 - ph2 - ph3
bat_sorted['phase'] = (['Phase 1'] * ph1) + (['Phase 2'] * ph2) + (['Phase 3'] * ph3) + (['Phase 4'] * ph4)

# Aggregate houses by phase
phase_houses = bat_sorted.groupby('phase')['nb_maisons'].sum().reindex(['Phase 1','Phase 2','Phase 3','Phase 4'])
total_houses = phase_houses.sum()
cumulative_pct = (phase_houses.cumsum() / total_houses * 100).round(1)

# Build summary table (without absolute costs due to unknown lengths)
summary = pd.DataFrame({
    'Phase': phase_houses.index,
    'Objet': ['Immeubles denses (~fourreau)','Écoles (semi-aérien)','Maisons (aérien)','Finalisation (mix)'],
    'Débordements (prévu)': [1,1,1,0],
    'Logements raccordés (simulé)': phase_houses.values,
    'Électricité fin de phase (%)': cumulative_pct.values,
    'Budget (%)': [40,20,20,20],
    'Type d’infra dominant': ['Fourreau (900 €/m, 5 h/m)','Semi-aérien (750 €/m, 4 h/m)','Aérien (500 €/m, 2 h/m)','Mix / conversions']
})

# Plot 1: Budget allocation
plt.figure()
pd.Series({'Phase 1':40,'Phase 2':20,'Phase 3':20,'Phase 4':20}).plot(kind='bar')
plt.title("Répartition budgétaire par phase")
plt.ylabel("% du budget")
plt.xlabel("Phase")

# Plot 2: Cumulative electrification
plt.figure()
cumulative_pct.plot(marker='o')
plt.title("Progression de l’électrification (cumul %)")
plt.ylabel("% de logements raccordés (cumul)")
plt.xlabel("Phase")
plt.ylim(0,100)

from caas_jupyter_tools import display_dataframe_to_user
display_dataframe_to_user("Tableau récapitulatif par phase (simulation sur vos données)", summary)
