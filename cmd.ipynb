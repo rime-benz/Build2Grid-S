import pandas as pd, zipfile

zip_path = "/mnt/data/cas pratique _ planification de raccordement-20251030T181842Z-1-001.zip"
with zipfile.ZipFile(zip_path) as z:
    bat = pd.read_csv(z.open('cas pratique _ planification de raccordement/new_data/batiments.csv'))

# sort by nb_maisons descending
bat_sorted = bat.sort_values('nb_maisons', ascending=False).reset_index(drop=True)
bat_sorted



zip_path = "/mnt/data/cas pratique _ planification de raccordement-20251030T181842Z-1-001.zip"
with zipfile.ZipFile(zip_path) as z:
    bat = pd.read_csv(z.open('cas pratique _ planification de raccordement/new_data/batiments.csv'))

bat_sorted = bat.sort_values('nb_maisons', ascending=False).reset_index(drop=True)
bat_sorted.head()



n=len(bat_sorted)
ph1=int(n*0.4); ph2=int(n*0.2); ph3=ph2; ph4=n-ph1-ph2-ph3
phase_assign=['phase1']*ph1 + ['phase2']*ph2 + ['phase3']*ph3 + ['phase4']*ph4
bat_sorted['phase']=phase_assign
bat_sorted.groupby('phase')['nb_maisons'].sum()

import matplotlib.pyplot as plt

phase_counts = bat_sorted.groupby('phase')['nb_maisons'].sum()
plt.figure()
phase_counts.plot(kind='bar')
plt.title("Nombre total de maisons raccordées par phase (simulation)")
plt.ylabel("Nb maisons")
plt.xlabel("Phase")
